{
  "nbformat": 4,
  "nbformat_minor": 0,
  "metadata": {
    "colab": {
      "name": "Damin_Balloons_1301183427.ipynb",
      "provenance": []
    },
    "kernelspec": {
      "name": "python3",
      "display_name": "Python 3"
    },
    "language_info": {
      "name": "python"
    }
  },
  "cells": [
    {
      "cell_type": "markdown",
      "metadata": {
        "id": "xaXHFWxn5MUD"
      },
      "source": [
        "# Libraries"
      ]
    },
    {
      "cell_type": "code",
      "metadata": {
        "id": "iUwhPM1oa4N3"
      },
      "source": [
        "import matplotlib.pyplot as plt\n",
        "import matplotlib as mpl\n",
        "import pandas as pd\n",
        "import numpy as np \n",
        "import seaborn as sns\n",
        "from numpy import random\n",
        "from sklearn.tree import DecisionTreeClassifier"
      ],
      "execution_count": 13,
      "outputs": []
    },
    {
      "cell_type": "code",
      "metadata": {
        "colab": {
          "base_uri": "https://localhost:8080/"
        },
        "id": "HIVJ9Je7oUzA",
        "outputId": "5bc72dea-4ff3-42a5-e03f-336d3818636c"
      },
      "source": [
        "!gdown --id 1BqHFbVIJvyMI7wgO2-lHrLPlxa170cUs"
      ],
      "execution_count": 14,
      "outputs": [
        {
          "output_type": "stream",
          "name": "stdout",
          "text": [
            "Downloading...\n",
            "From: https://drive.google.com/uc?id=1BqHFbVIJvyMI7wgO2-lHrLPlxa170cUs\n",
            "To: /content/balloons.csv\n",
            "\r  0% 0.00/504 [00:00<?, ?B/s]\r100% 504/504 [00:00<00:00, 682kB/s]\n"
          ]
        }
      ]
    },
    {
      "cell_type": "code",
      "metadata": {
        "id": "tsuPpfDfpabR",
        "colab": {
          "base_uri": "https://localhost:8080/",
          "height": 573
        },
        "outputId": "a0d53459-fd55-4b9e-9371-70864bfb6c1c"
      },
      "source": [
        "balloons = pd.read_csv('balloons.csv')\n",
        "balloons"
      ],
      "execution_count": 15,
      "outputs": [
        {
          "output_type": "execute_result",
          "data": {
            "text/html": [
              "<div>\n",
              "<style scoped>\n",
              "    .dataframe tbody tr th:only-of-type {\n",
              "        vertical-align: middle;\n",
              "    }\n",
              "\n",
              "    .dataframe tbody tr th {\n",
              "        vertical-align: top;\n",
              "    }\n",
              "\n",
              "    .dataframe thead th {\n",
              "        text-align: right;\n",
              "    }\n",
              "</style>\n",
              "<table border=\"1\" class=\"dataframe\">\n",
              "  <thead>\n",
              "    <tr style=\"text-align: right;\">\n",
              "      <th></th>\n",
              "      <th>color</th>\n",
              "      <th>size</th>\n",
              "      <th>act</th>\n",
              "      <th>age</th>\n",
              "      <th>inflanted</th>\n",
              "    </tr>\n",
              "  </thead>\n",
              "  <tbody>\n",
              "    <tr>\n",
              "      <th>0</th>\n",
              "      <td>yellow</td>\n",
              "      <td>small</td>\n",
              "      <td>stretch</td>\n",
              "      <td>adult</td>\n",
              "      <td>T</td>\n",
              "    </tr>\n",
              "    <tr>\n",
              "      <th>1</th>\n",
              "      <td>yellow</td>\n",
              "      <td>small</td>\n",
              "      <td>stretch</td>\n",
              "      <td>child</td>\n",
              "      <td>T</td>\n",
              "    </tr>\n",
              "    <tr>\n",
              "      <th>2</th>\n",
              "      <td>yellow</td>\n",
              "      <td>small</td>\n",
              "      <td>dip</td>\n",
              "      <td>adult</td>\n",
              "      <td>T</td>\n",
              "    </tr>\n",
              "    <tr>\n",
              "      <th>3</th>\n",
              "      <td>yellow</td>\n",
              "      <td>small</td>\n",
              "      <td>dip</td>\n",
              "      <td>child</td>\n",
              "      <td>T</td>\n",
              "    </tr>\n",
              "    <tr>\n",
              "      <th>4</th>\n",
              "      <td>yellow</td>\n",
              "      <td>large</td>\n",
              "      <td>stretch</td>\n",
              "      <td>adult</td>\n",
              "      <td>T</td>\n",
              "    </tr>\n",
              "    <tr>\n",
              "      <th>5</th>\n",
              "      <td>yellow</td>\n",
              "      <td>large</td>\n",
              "      <td>stretch</td>\n",
              "      <td>child</td>\n",
              "      <td>F</td>\n",
              "    </tr>\n",
              "    <tr>\n",
              "      <th>6</th>\n",
              "      <td>yellow</td>\n",
              "      <td>large</td>\n",
              "      <td>dip</td>\n",
              "      <td>adult</td>\n",
              "      <td>F</td>\n",
              "    </tr>\n",
              "    <tr>\n",
              "      <th>7</th>\n",
              "      <td>yellow</td>\n",
              "      <td>large</td>\n",
              "      <td>dip</td>\n",
              "      <td>child</td>\n",
              "      <td>F</td>\n",
              "    </tr>\n",
              "    <tr>\n",
              "      <th>8</th>\n",
              "      <td>purple</td>\n",
              "      <td>small</td>\n",
              "      <td>stretch</td>\n",
              "      <td>adult</td>\n",
              "      <td>T</td>\n",
              "    </tr>\n",
              "    <tr>\n",
              "      <th>9</th>\n",
              "      <td>purple</td>\n",
              "      <td>small</td>\n",
              "      <td>stretch</td>\n",
              "      <td>child</td>\n",
              "      <td>F</td>\n",
              "    </tr>\n",
              "    <tr>\n",
              "      <th>10</th>\n",
              "      <td>purple</td>\n",
              "      <td>small</td>\n",
              "      <td>dip</td>\n",
              "      <td>adult</td>\n",
              "      <td>F</td>\n",
              "    </tr>\n",
              "    <tr>\n",
              "      <th>11</th>\n",
              "      <td>purple</td>\n",
              "      <td>small</td>\n",
              "      <td>dip</td>\n",
              "      <td>child</td>\n",
              "      <td>F</td>\n",
              "    </tr>\n",
              "    <tr>\n",
              "      <th>12</th>\n",
              "      <td>purple</td>\n",
              "      <td>large</td>\n",
              "      <td>stretch</td>\n",
              "      <td>adult</td>\n",
              "      <td>T</td>\n",
              "    </tr>\n",
              "    <tr>\n",
              "      <th>13</th>\n",
              "      <td>purple</td>\n",
              "      <td>large</td>\n",
              "      <td>stretch</td>\n",
              "      <td>child</td>\n",
              "      <td>F</td>\n",
              "    </tr>\n",
              "    <tr>\n",
              "      <th>14</th>\n",
              "      <td>purple</td>\n",
              "      <td>large</td>\n",
              "      <td>dip</td>\n",
              "      <td>adult</td>\n",
              "      <td>F</td>\n",
              "    </tr>\n",
              "    <tr>\n",
              "      <th>15</th>\n",
              "      <td>purple</td>\n",
              "      <td>large</td>\n",
              "      <td>dip</td>\n",
              "      <td>child</td>\n",
              "      <td>F</td>\n",
              "    </tr>\n",
              "    <tr>\n",
              "      <th>16</th>\n",
              "      <td>purple</td>\n",
              "      <td>large</td>\n",
              "      <td>dip</td>\n",
              "      <td>child</td>\n",
              "      <td>F</td>\n",
              "    </tr>\n",
              "  </tbody>\n",
              "</table>\n",
              "</div>"
            ],
            "text/plain": [
              "     color   size      act    age inflanted\n",
              "0   yellow  small  stretch  adult         T\n",
              "1   yellow  small  stretch  child         T\n",
              "2   yellow  small      dip  adult         T\n",
              "3   yellow  small      dip  child         T\n",
              "4   yellow  large  stretch  adult         T\n",
              "5   yellow  large  stretch  child         F\n",
              "6   yellow  large      dip  adult         F\n",
              "7   yellow  large      dip  child         F\n",
              "8   purple  small  stretch  adult         T\n",
              "9   purple  small  stretch  child         F\n",
              "10  purple  small      dip  adult         F\n",
              "11  purple  small      dip  child         F\n",
              "12  purple  large  stretch  adult         T\n",
              "13  purple  large  stretch  child         F\n",
              "14  purple  large      dip  adult         F\n",
              "15  purple  large      dip  child         F\n",
              "16  purple  large      dip  child         F"
            ]
          },
          "metadata": {},
          "execution_count": 15
        }
      ]
    },
    {
      "cell_type": "markdown",
      "metadata": {
        "id": "iI4O4NvL5Q3y"
      },
      "source": [
        "# Pre-Process"
      ]
    },
    {
      "cell_type": "markdown",
      "metadata": {
        "id": "l2d7PPFjeQrX"
      },
      "source": [
        "Drop Data Duplikat"
      ]
    },
    {
      "cell_type": "code",
      "metadata": {
        "colab": {
          "base_uri": "https://localhost:8080/",
          "height": 542
        },
        "id": "TqXR2ilX2TNz",
        "outputId": "b3cadf72-6bac-4fcf-89c4-fe9ad304bb33"
      },
      "source": [
        "balloons = balloons.drop_duplicates()\n",
        "balloons"
      ],
      "execution_count": 16,
      "outputs": [
        {
          "output_type": "execute_result",
          "data": {
            "text/html": [
              "<div>\n",
              "<style scoped>\n",
              "    .dataframe tbody tr th:only-of-type {\n",
              "        vertical-align: middle;\n",
              "    }\n",
              "\n",
              "    .dataframe tbody tr th {\n",
              "        vertical-align: top;\n",
              "    }\n",
              "\n",
              "    .dataframe thead th {\n",
              "        text-align: right;\n",
              "    }\n",
              "</style>\n",
              "<table border=\"1\" class=\"dataframe\">\n",
              "  <thead>\n",
              "    <tr style=\"text-align: right;\">\n",
              "      <th></th>\n",
              "      <th>color</th>\n",
              "      <th>size</th>\n",
              "      <th>act</th>\n",
              "      <th>age</th>\n",
              "      <th>inflanted</th>\n",
              "    </tr>\n",
              "  </thead>\n",
              "  <tbody>\n",
              "    <tr>\n",
              "      <th>0</th>\n",
              "      <td>yellow</td>\n",
              "      <td>small</td>\n",
              "      <td>stretch</td>\n",
              "      <td>adult</td>\n",
              "      <td>T</td>\n",
              "    </tr>\n",
              "    <tr>\n",
              "      <th>1</th>\n",
              "      <td>yellow</td>\n",
              "      <td>small</td>\n",
              "      <td>stretch</td>\n",
              "      <td>child</td>\n",
              "      <td>T</td>\n",
              "    </tr>\n",
              "    <tr>\n",
              "      <th>2</th>\n",
              "      <td>yellow</td>\n",
              "      <td>small</td>\n",
              "      <td>dip</td>\n",
              "      <td>adult</td>\n",
              "      <td>T</td>\n",
              "    </tr>\n",
              "    <tr>\n",
              "      <th>3</th>\n",
              "      <td>yellow</td>\n",
              "      <td>small</td>\n",
              "      <td>dip</td>\n",
              "      <td>child</td>\n",
              "      <td>T</td>\n",
              "    </tr>\n",
              "    <tr>\n",
              "      <th>4</th>\n",
              "      <td>yellow</td>\n",
              "      <td>large</td>\n",
              "      <td>stretch</td>\n",
              "      <td>adult</td>\n",
              "      <td>T</td>\n",
              "    </tr>\n",
              "    <tr>\n",
              "      <th>5</th>\n",
              "      <td>yellow</td>\n",
              "      <td>large</td>\n",
              "      <td>stretch</td>\n",
              "      <td>child</td>\n",
              "      <td>F</td>\n",
              "    </tr>\n",
              "    <tr>\n",
              "      <th>6</th>\n",
              "      <td>yellow</td>\n",
              "      <td>large</td>\n",
              "      <td>dip</td>\n",
              "      <td>adult</td>\n",
              "      <td>F</td>\n",
              "    </tr>\n",
              "    <tr>\n",
              "      <th>7</th>\n",
              "      <td>yellow</td>\n",
              "      <td>large</td>\n",
              "      <td>dip</td>\n",
              "      <td>child</td>\n",
              "      <td>F</td>\n",
              "    </tr>\n",
              "    <tr>\n",
              "      <th>8</th>\n",
              "      <td>purple</td>\n",
              "      <td>small</td>\n",
              "      <td>stretch</td>\n",
              "      <td>adult</td>\n",
              "      <td>T</td>\n",
              "    </tr>\n",
              "    <tr>\n",
              "      <th>9</th>\n",
              "      <td>purple</td>\n",
              "      <td>small</td>\n",
              "      <td>stretch</td>\n",
              "      <td>child</td>\n",
              "      <td>F</td>\n",
              "    </tr>\n",
              "    <tr>\n",
              "      <th>10</th>\n",
              "      <td>purple</td>\n",
              "      <td>small</td>\n",
              "      <td>dip</td>\n",
              "      <td>adult</td>\n",
              "      <td>F</td>\n",
              "    </tr>\n",
              "    <tr>\n",
              "      <th>11</th>\n",
              "      <td>purple</td>\n",
              "      <td>small</td>\n",
              "      <td>dip</td>\n",
              "      <td>child</td>\n",
              "      <td>F</td>\n",
              "    </tr>\n",
              "    <tr>\n",
              "      <th>12</th>\n",
              "      <td>purple</td>\n",
              "      <td>large</td>\n",
              "      <td>stretch</td>\n",
              "      <td>adult</td>\n",
              "      <td>T</td>\n",
              "    </tr>\n",
              "    <tr>\n",
              "      <th>13</th>\n",
              "      <td>purple</td>\n",
              "      <td>large</td>\n",
              "      <td>stretch</td>\n",
              "      <td>child</td>\n",
              "      <td>F</td>\n",
              "    </tr>\n",
              "    <tr>\n",
              "      <th>14</th>\n",
              "      <td>purple</td>\n",
              "      <td>large</td>\n",
              "      <td>dip</td>\n",
              "      <td>adult</td>\n",
              "      <td>F</td>\n",
              "    </tr>\n",
              "    <tr>\n",
              "      <th>15</th>\n",
              "      <td>purple</td>\n",
              "      <td>large</td>\n",
              "      <td>dip</td>\n",
              "      <td>child</td>\n",
              "      <td>F</td>\n",
              "    </tr>\n",
              "  </tbody>\n",
              "</table>\n",
              "</div>"
            ],
            "text/plain": [
              "     color   size      act    age inflanted\n",
              "0   yellow  small  stretch  adult         T\n",
              "1   yellow  small  stretch  child         T\n",
              "2   yellow  small      dip  adult         T\n",
              "3   yellow  small      dip  child         T\n",
              "4   yellow  large  stretch  adult         T\n",
              "5   yellow  large  stretch  child         F\n",
              "6   yellow  large      dip  adult         F\n",
              "7   yellow  large      dip  child         F\n",
              "8   purple  small  stretch  adult         T\n",
              "9   purple  small  stretch  child         F\n",
              "10  purple  small      dip  adult         F\n",
              "11  purple  small      dip  child         F\n",
              "12  purple  large  stretch  adult         T\n",
              "13  purple  large  stretch  child         F\n",
              "14  purple  large      dip  adult         F\n",
              "15  purple  large      dip  child         F"
            ]
          },
          "metadata": {},
          "execution_count": 16
        }
      ]
    },
    {
      "cell_type": "markdown",
      "metadata": {
        "id": "8oeLtg1weWe2"
      },
      "source": [
        "Ubah nilai menjadi numerik"
      ]
    },
    {
      "cell_type": "code",
      "metadata": {
        "colab": {
          "base_uri": "https://localhost:8080/",
          "height": 1000
        },
        "id": "zerRdfuh2lk3",
        "outputId": "2aefa643-6a2f-40c3-bebd-a8178993b80d"
      },
      "source": [
        "balloons['color'] = balloons['color'].replace(['yellow','purple'],[0,1])\n",
        "balloons['size'] = balloons['size'].replace(['small','large'],[0,1])\n",
        "balloons['act'] = balloons['act'].replace(['stretch','dip'],[0,1])\n",
        "balloons['age'] = balloons['age'].replace(['adult','child'],[0,1])\n",
        "balloons['inflanted'] = balloons['inflanted'].replace(['F','T'],[0,1])\n",
        "balloons"
      ],
      "execution_count": 17,
      "outputs": [
        {
          "output_type": "stream",
          "name": "stderr",
          "text": [
            "/usr/local/lib/python3.7/dist-packages/ipykernel_launcher.py:1: SettingWithCopyWarning: \n",
            "A value is trying to be set on a copy of a slice from a DataFrame.\n",
            "Try using .loc[row_indexer,col_indexer] = value instead\n",
            "\n",
            "See the caveats in the documentation: https://pandas.pydata.org/pandas-docs/stable/user_guide/indexing.html#returning-a-view-versus-a-copy\n",
            "  \"\"\"Entry point for launching an IPython kernel.\n",
            "/usr/local/lib/python3.7/dist-packages/ipykernel_launcher.py:2: SettingWithCopyWarning: \n",
            "A value is trying to be set on a copy of a slice from a DataFrame.\n",
            "Try using .loc[row_indexer,col_indexer] = value instead\n",
            "\n",
            "See the caveats in the documentation: https://pandas.pydata.org/pandas-docs/stable/user_guide/indexing.html#returning-a-view-versus-a-copy\n",
            "  \n",
            "/usr/local/lib/python3.7/dist-packages/ipykernel_launcher.py:3: SettingWithCopyWarning: \n",
            "A value is trying to be set on a copy of a slice from a DataFrame.\n",
            "Try using .loc[row_indexer,col_indexer] = value instead\n",
            "\n",
            "See the caveats in the documentation: https://pandas.pydata.org/pandas-docs/stable/user_guide/indexing.html#returning-a-view-versus-a-copy\n",
            "  This is separate from the ipykernel package so we can avoid doing imports until\n",
            "/usr/local/lib/python3.7/dist-packages/ipykernel_launcher.py:4: SettingWithCopyWarning: \n",
            "A value is trying to be set on a copy of a slice from a DataFrame.\n",
            "Try using .loc[row_indexer,col_indexer] = value instead\n",
            "\n",
            "See the caveats in the documentation: https://pandas.pydata.org/pandas-docs/stable/user_guide/indexing.html#returning-a-view-versus-a-copy\n",
            "  after removing the cwd from sys.path.\n",
            "/usr/local/lib/python3.7/dist-packages/ipykernel_launcher.py:5: SettingWithCopyWarning: \n",
            "A value is trying to be set on a copy of a slice from a DataFrame.\n",
            "Try using .loc[row_indexer,col_indexer] = value instead\n",
            "\n",
            "See the caveats in the documentation: https://pandas.pydata.org/pandas-docs/stable/user_guide/indexing.html#returning-a-view-versus-a-copy\n",
            "  \"\"\"\n"
          ]
        },
        {
          "output_type": "execute_result",
          "data": {
            "text/html": [
              "<div>\n",
              "<style scoped>\n",
              "    .dataframe tbody tr th:only-of-type {\n",
              "        vertical-align: middle;\n",
              "    }\n",
              "\n",
              "    .dataframe tbody tr th {\n",
              "        vertical-align: top;\n",
              "    }\n",
              "\n",
              "    .dataframe thead th {\n",
              "        text-align: right;\n",
              "    }\n",
              "</style>\n",
              "<table border=\"1\" class=\"dataframe\">\n",
              "  <thead>\n",
              "    <tr style=\"text-align: right;\">\n",
              "      <th></th>\n",
              "      <th>color</th>\n",
              "      <th>size</th>\n",
              "      <th>act</th>\n",
              "      <th>age</th>\n",
              "      <th>inflanted</th>\n",
              "    </tr>\n",
              "  </thead>\n",
              "  <tbody>\n",
              "    <tr>\n",
              "      <th>0</th>\n",
              "      <td>0</td>\n",
              "      <td>0</td>\n",
              "      <td>0</td>\n",
              "      <td>0</td>\n",
              "      <td>1</td>\n",
              "    </tr>\n",
              "    <tr>\n",
              "      <th>1</th>\n",
              "      <td>0</td>\n",
              "      <td>0</td>\n",
              "      <td>0</td>\n",
              "      <td>1</td>\n",
              "      <td>1</td>\n",
              "    </tr>\n",
              "    <tr>\n",
              "      <th>2</th>\n",
              "      <td>0</td>\n",
              "      <td>0</td>\n",
              "      <td>1</td>\n",
              "      <td>0</td>\n",
              "      <td>1</td>\n",
              "    </tr>\n",
              "    <tr>\n",
              "      <th>3</th>\n",
              "      <td>0</td>\n",
              "      <td>0</td>\n",
              "      <td>1</td>\n",
              "      <td>1</td>\n",
              "      <td>1</td>\n",
              "    </tr>\n",
              "    <tr>\n",
              "      <th>4</th>\n",
              "      <td>0</td>\n",
              "      <td>1</td>\n",
              "      <td>0</td>\n",
              "      <td>0</td>\n",
              "      <td>1</td>\n",
              "    </tr>\n",
              "    <tr>\n",
              "      <th>5</th>\n",
              "      <td>0</td>\n",
              "      <td>1</td>\n",
              "      <td>0</td>\n",
              "      <td>1</td>\n",
              "      <td>0</td>\n",
              "    </tr>\n",
              "    <tr>\n",
              "      <th>6</th>\n",
              "      <td>0</td>\n",
              "      <td>1</td>\n",
              "      <td>1</td>\n",
              "      <td>0</td>\n",
              "      <td>0</td>\n",
              "    </tr>\n",
              "    <tr>\n",
              "      <th>7</th>\n",
              "      <td>0</td>\n",
              "      <td>1</td>\n",
              "      <td>1</td>\n",
              "      <td>1</td>\n",
              "      <td>0</td>\n",
              "    </tr>\n",
              "    <tr>\n",
              "      <th>8</th>\n",
              "      <td>1</td>\n",
              "      <td>0</td>\n",
              "      <td>0</td>\n",
              "      <td>0</td>\n",
              "      <td>1</td>\n",
              "    </tr>\n",
              "    <tr>\n",
              "      <th>9</th>\n",
              "      <td>1</td>\n",
              "      <td>0</td>\n",
              "      <td>0</td>\n",
              "      <td>1</td>\n",
              "      <td>0</td>\n",
              "    </tr>\n",
              "    <tr>\n",
              "      <th>10</th>\n",
              "      <td>1</td>\n",
              "      <td>0</td>\n",
              "      <td>1</td>\n",
              "      <td>0</td>\n",
              "      <td>0</td>\n",
              "    </tr>\n",
              "    <tr>\n",
              "      <th>11</th>\n",
              "      <td>1</td>\n",
              "      <td>0</td>\n",
              "      <td>1</td>\n",
              "      <td>1</td>\n",
              "      <td>0</td>\n",
              "    </tr>\n",
              "    <tr>\n",
              "      <th>12</th>\n",
              "      <td>1</td>\n",
              "      <td>1</td>\n",
              "      <td>0</td>\n",
              "      <td>0</td>\n",
              "      <td>1</td>\n",
              "    </tr>\n",
              "    <tr>\n",
              "      <th>13</th>\n",
              "      <td>1</td>\n",
              "      <td>1</td>\n",
              "      <td>0</td>\n",
              "      <td>1</td>\n",
              "      <td>0</td>\n",
              "    </tr>\n",
              "    <tr>\n",
              "      <th>14</th>\n",
              "      <td>1</td>\n",
              "      <td>1</td>\n",
              "      <td>1</td>\n",
              "      <td>0</td>\n",
              "      <td>0</td>\n",
              "    </tr>\n",
              "    <tr>\n",
              "      <th>15</th>\n",
              "      <td>1</td>\n",
              "      <td>1</td>\n",
              "      <td>1</td>\n",
              "      <td>1</td>\n",
              "      <td>0</td>\n",
              "    </tr>\n",
              "  </tbody>\n",
              "</table>\n",
              "</div>"
            ],
            "text/plain": [
              "    color  size  act  age  inflanted\n",
              "0       0     0    0    0          1\n",
              "1       0     0    0    1          1\n",
              "2       0     0    1    0          1\n",
              "3       0     0    1    1          1\n",
              "4       0     1    0    0          1\n",
              "5       0     1    0    1          0\n",
              "6       0     1    1    0          0\n",
              "7       0     1    1    1          0\n",
              "8       1     0    0    0          1\n",
              "9       1     0    0    1          0\n",
              "10      1     0    1    0          0\n",
              "11      1     0    1    1          0\n",
              "12      1     1    0    0          1\n",
              "13      1     1    0    1          0\n",
              "14      1     1    1    0          0\n",
              "15      1     1    1    1          0"
            ]
          },
          "metadata": {},
          "execution_count": 17
        }
      ]
    },
    {
      "cell_type": "markdown",
      "metadata": {
        "id": "r6OwFwdM5I5K"
      },
      "source": [
        "# Clustering"
      ]
    },
    {
      "cell_type": "code",
      "metadata": {
        "id": "bi3RP_M-6YtS"
      },
      "source": [
        "cluster_df = balloons[['color','size']].copy(deep=True) #dataframe baru dengan 2 kolom\n",
        "cluster_df.sort_values(by=['color','size'], inplace=True)\n",
        "cluster_arr = np.array(cluster_df) #dataframe diubah menjadi array"
      ],
      "execution_count": 18,
      "outputs": []
    },
    {
      "cell_type": "markdown",
      "metadata": {
        "id": "qs_esd8K5dKB"
      },
      "source": [
        "Fungsi Jarak"
      ]
    },
    {
      "cell_type": "code",
      "metadata": {
        "id": "zN_A702r5CeU"
      },
      "source": [
        "def count_distance(x1, x2):\n",
        "    return (sum((x1 - x2) ** 2)) ** 0.5 #rumus menghitung jarak"
      ],
      "execution_count": 19,
      "outputs": []
    },
    {
      "cell_type": "markdown",
      "metadata": {
        "id": "b0mUldL95sc9"
      },
      "source": [
        "Fungsi untuk menentukan cluster untuk setiap data"
      ]
    },
    {
      "cell_type": "code",
      "metadata": {
        "id": "36XuT1u45uzm"
      },
      "source": [
        "def define_clusters(centroids, cluster_arr):\n",
        "    clusters = []\n",
        "    for i in range(cluster_arr.shape[0]): #loop sebanyak jumlah baris\n",
        "        distances = []\n",
        "        for centroid in centroids: #loop sebanyak jumlah centroid sesuai dengan nilai K\n",
        "            distances.append(count_distance(centroid, cluster_arr[i])) #menghitung distance dari tiap data dengan semua centroid\n",
        "        cluster = [x for x, val in enumerate(distances) if val == min(distances)] #mencari centroid terdekat\n",
        "        clusters.append(cluster[0]) #menentukan cluster\n",
        "    return np.array(clusters)"
      ],
      "execution_count": 20,
      "outputs": []
    },
    {
      "cell_type": "markdown",
      "metadata": {
        "id": "NzgIG9Kt58OK"
      },
      "source": [
        "Fungsi untuk menentukan centroid baru untuk setiap cluster"
      ]
    },
    {
      "cell_type": "code",
      "metadata": {
        "id": "vm5nuRoj58r_"
      },
      "source": [
        "def count_centroids(clusters, cluster_arr):\n",
        "    new_centroids = []\n",
        "    cluster_df = pd.concat([pd.DataFrame(cluster_arr), pd.DataFrame(clusters, columns=['cluster'])], axis=1) #menggabungkan dataframe\n",
        "    for c in set(cluster_df['cluster']):\n",
        "        current_cluster = cluster_df[cluster_df['cluster']==c][cluster_df.columns[:-1]]\n",
        "        cluster_mean = current_cluster.mean(axis=0) #mencari mean dari cluster\n",
        "        new_centroids.append(cluster_mean) #mean tersebut menjadi centroid baru dalam cluster tersebut\n",
        "    return np.array(new_centroids)"
      ],
      "execution_count": 21,
      "outputs": []
    },
    {
      "cell_type": "markdown",
      "metadata": {
        "id": "f7SRq0Ek6B4E"
      },
      "source": [
        "Main program"
      ]
    },
    {
      "cell_type": "code",
      "metadata": {
        "id": "KzvoLCD86Dag"
      },
      "source": [
        "k = 3 #menentukan jumlah cluster\n",
        "centroids = [cluster_arr[i+2] for i in range(k)] #random centroid awal\n",
        "clusters = define_clusters(centroids, cluster_arr) #menentukan cluster berdasarkan centroid awal\n",
        "initial_clusters = clusters\n",
        "for i in range(20): #loop untuk mengulangi proses penentuan centroid dan penentuan cluster\n",
        "    centroids = count_centroids(clusters, cluster_arr)\n",
        "    clusters = define_clusters(centroids, cluster_arr)"
      ],
      "execution_count": 22,
      "outputs": []
    },
    {
      "cell_type": "markdown",
      "metadata": {
        "id": "Qip7Kww06Q2Z"
      },
      "source": [
        "Visualisasi clustering"
      ]
    },
    {
      "cell_type": "code",
      "metadata": {
        "colab": {
          "base_uri": "https://localhost:8080/",
          "height": 606
        },
        "id": "aKm3BfDJ6QIo",
        "outputId": "42081750-d068-48fb-b4c7-6fd58bdf9921"
      },
      "source": [
        "plt.subplots(figsize=(10,10))\n",
        "plt.scatter(x=cluster_arr[:,0], y=cluster_arr[:,1], \n",
        "            c=clusters, cmap=plt.cm.Spectral);\n",
        "plt.scatter(x=centroids[:,0], y=centroids[:,1], color='black');\n",
        "plt.xlabel('color')\n",
        "plt.ylabel('size');"
      ],
      "execution_count": 23,
      "outputs": [
        {
          "output_type": "display_data",
          "data": {
            "image/png": "[encoded data removed]",
            "text/plain": [
              "<Figure size 720x720 with 1 Axes>"
            ]
          },
          "metadata": {
            "needs_background": "light"
          }
        }
      ]
    },
    {
      "cell_type": "markdown",
      "metadata": {
        "id": "MAvWX5Fn8MkR"
      },
      "source": [
        "# Klasifikasi"
      ]
    },
    {
      "cell_type": "markdown",
      "metadata": {
        "id": "O8Pu580vd5Dc"
      },
      "source": [
        "Membagi data train dan data test"
      ]
    },
    {
      "cell_type": "code",
      "metadata": {
        "id": "qC6RjWLXcavP"
      },
      "source": [
        "df_train = balloons.sample(frac=0.75, random_state=25) #menentukan jumlah dataframe train\n",
        "df_test = balloons.drop(df_train.index).reset_index().drop(['index'],axis=1) #menentukan jumlah dataframe test"
      ],
      "execution_count": 31,
      "outputs": []
    },
    {
      "cell_type": "markdown",
      "metadata": {
        "id": "A1U5xOuBd8zi"
      },
      "source": [
        "Membagi berdasarkan target dan non-target"
      ]
    },
    {
      "cell_type": "code",
      "metadata": {
        "id": "Rr1POKCmccca"
      },
      "source": [
        "x_train = df_train.iloc[:, :-1].values #x = dataframe train non target\n",
        "y_train = df_train.iloc[:, -1].values #y = dataframe train target\n",
        "\n",
        "x_test = df_test.iloc[:, :-1].values #x = dataframe test non target\n",
        "y_test = df_test.iloc[:, -1].values #y = dataframe test target"
      ],
      "execution_count": 25,
      "outputs": []
    },
    {
      "cell_type": "markdown",
      "metadata": {
        "id": "pnqa9_E8fKcm"
      },
      "source": [
        "Melakukan Data Train"
      ]
    },
    {
      "cell_type": "code",
      "metadata": {
        "colab": {
          "base_uri": "https://localhost:8080/"
        },
        "id": "R5TKnAgccd2f",
        "outputId": "ba6771df-095b-451d-f0fd-1d8344a1b59e"
      },
      "source": [
        "model = DecisionTreeClassifier(criterion = 'entropy', random_state = 0) #membuat sebuah model dengan metode decision tree classifier\n",
        "model.fit(x_train, y_train) #memasukkan data train kedalam model menggunakan metode fit"
      ],
      "execution_count": 26,
      "outputs": [
        {
          "output_type": "execute_result",
          "data": {
            "text/plain": [
              "DecisionTreeClassifier(ccp_alpha=0.0, class_weight=None, criterion='entropy',\n",
              "                       max_depth=None, max_features=None, max_leaf_nodes=None,\n",
              "                       min_impurity_decrease=0.0, min_impurity_split=None,\n",
              "                       min_samples_leaf=1, min_samples_split=2,\n",
              "                       min_weight_fraction_leaf=0.0, presort='deprecated',\n",
              "                       random_state=0, splitter='best')"
            ]
          },
          "metadata": {},
          "execution_count": 26
        }
      ]
    },
    {
      "cell_type": "markdown",
      "metadata": {
        "id": "guG_ebDLfNyK"
      },
      "source": [
        "Melakukan Klasifikasi"
      ]
    },
    {
      "cell_type": "code",
      "metadata": {
        "colab": {
          "base_uri": "https://localhost:8080/",
          "height": 172
        },
        "id": "CR5UifV5ce9x",
        "outputId": "6cf452c7-009a-40bb-a60d-df9754b13fa0"
      },
      "source": [
        "y_pred = model.predict(x_test) #melakukan klasifikasi pada data test\n",
        "df_hasil = pd.concat([pd.DataFrame(df_test, columns=['inflanted']) ,pd.DataFrame(y_pred, columns=['predict'])], axis=1) #menggabungkan data test dan hasil klasifikasi untuk perbandingan\n",
        "df_hasil #menampilkan hasil"
      ],
      "execution_count": 33,
      "outputs": [
        {
          "output_type": "execute_result",
          "data": {
            "text/html": [
              "<div>\n",
              "<style scoped>\n",
              "    .dataframe tbody tr th:only-of-type {\n",
              "        vertical-align: middle;\n",
              "    }\n",
              "\n",
              "    .dataframe tbody tr th {\n",
              "        vertical-align: top;\n",
              "    }\n",
              "\n",
              "    .dataframe thead th {\n",
              "        text-align: right;\n",
              "    }\n",
              "</style>\n",
              "<table border=\"1\" class=\"dataframe\">\n",
              "  <thead>\n",
              "    <tr style=\"text-align: right;\">\n",
              "      <th></th>\n",
              "      <th>inflanted</th>\n",
              "      <th>predict</th>\n",
              "    </tr>\n",
              "  </thead>\n",
              "  <tbody>\n",
              "    <tr>\n",
              "      <th>0</th>\n",
              "      <td>1</td>\n",
              "      <td>1</td>\n",
              "    </tr>\n",
              "    <tr>\n",
              "      <th>1</th>\n",
              "      <td>0</td>\n",
              "      <td>1</td>\n",
              "    </tr>\n",
              "    <tr>\n",
              "      <th>2</th>\n",
              "      <td>0</td>\n",
              "      <td>1</td>\n",
              "    </tr>\n",
              "    <tr>\n",
              "      <th>3</th>\n",
              "      <td>0</td>\n",
              "      <td>1</td>\n",
              "    </tr>\n",
              "  </tbody>\n",
              "</table>\n",
              "</div>"
            ],
            "text/plain": [
              "   inflanted  predict\n",
              "0          1        1\n",
              "1          0        1\n",
              "2          0        1\n",
              "3          0        1"
            ]
          },
          "metadata": {},
          "execution_count": 33
        }
      ]
    }
  ]
}